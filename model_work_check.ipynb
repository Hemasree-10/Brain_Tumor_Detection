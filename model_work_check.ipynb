{
 "cells": [
  {
   "cell_type": "code",
   "execution_count": 3,
   "metadata": {},
   "outputs": [
    {
     "name": "stderr",
     "output_type": "stream",
     "text": [
      "WARNING:absl:Compiled the loaded model, but the compiled metrics have yet to be built. `model.compile_metrics` will be empty until you train or evaluate the model.\n"
     ]
    },
    {
     "name": "stdout",
     "output_type": "stream",
     "text": [
      "\u001b[1m1/1\u001b[0m \u001b[32m━━━━━━━━━━━━━━━━━━━━\u001b[0m\u001b[37m\u001b[0m \u001b[1m0s\u001b[0m 205ms/step\n",
      "[[0.]]\n"
     ]
    }
   ],
   "source": [
    "import cv2\n",
    "from tensorflow.keras.models import load_model\n",
    "from PIL import Image\n",
    "import numpy as np\n",
    "\n",
    "\n",
    "model=load_model('Brain_tumor.h5')\n",
    "\n",
    "image=cv2.imread('C:\\\\GIT folder\\\\Brain_Tumor_Detection\\\\pred\\\\pred0.jpg') # from prediction copy path of 1st image\n",
    "\n",
    "#convert img to area for testing purpose\n",
    "img = Image.fromarray(image)\n",
    "img = img.resize((64,64))\n",
    "img = np.array(img)\n",
    "\n",
    "# print(img) # print image array (shows only numbers)\n",
    "\n",
    "\n",
    "input_img = np.expand_dims(img, axis=0) # to make it 4d\n",
    "result = model.predict(input_img)\n",
    "print(result)\n"
   ]
  },
  {
   "cell_type": "markdown",
   "metadata": {},
   "source": [
    "- The zero output indicates No Tumor."
   ]
  },
  {
   "cell_type": "code",
   "execution_count": 4,
   "metadata": {},
   "outputs": [
    {
     "name": "stdout",
     "output_type": "stream",
     "text": [
      "\u001b[1m1/1\u001b[0m \u001b[32m━━━━━━━━━━━━━━━━━━━━\u001b[0m\u001b[37m\u001b[0m \u001b[1m0s\u001b[0m 68ms/step\n",
      "[[1.]]\n"
     ]
    }
   ],
   "source": [
    "image=cv2.imread('C:\\\\GIT folder\\\\Brain_Tumor_Detection\\\\pred\\\\pred2.jpg') # from prediction copy path of 3rd image\n",
    "\n",
    "#convert img to area for testing purpose\n",
    "img = Image.fromarray(image)\n",
    "img = img.resize((64,64))\n",
    "img = np.array(img)\n",
    "\n",
    "# print(img) # print image array (shows only numbers)\n",
    "\n",
    "\n",
    "input_img = np.expand_dims(img, axis=0) # to make it 4d\n",
    "result = model.predict(input_img)\n",
    "print(result)\n"
   ]
  },
  {
   "cell_type": "markdown",
   "metadata": {},
   "source": [
    "- The one output indicates Tumor."
   ]
  },
  {
   "cell_type": "markdown",
   "metadata": {},
   "source": [
    "# Categorical Model Checking"
   ]
  },
  {
   "cell_type": "code",
   "execution_count": 5,
   "metadata": {},
   "outputs": [
    {
     "name": "stderr",
     "output_type": "stream",
     "text": [
      "WARNING:absl:Compiled the loaded model, but the compiled metrics have yet to be built. `model.compile_metrics` will be empty until you train or evaluate the model.\n"
     ]
    },
    {
     "name": "stdout",
     "output_type": "stream",
     "text": [
      "\u001b[1m1/1\u001b[0m \u001b[32m━━━━━━━━━━━━━━━━━━━━\u001b[0m\u001b[37m\u001b[0m \u001b[1m0s\u001b[0m 168ms/step\n",
      "[[1. 0.]]\n"
     ]
    }
   ],
   "source": [
    "# now using categorical model\n",
    "\n",
    "model=load_model('Brain_tumor_categorical.h5')\n",
    "\n",
    "image=cv2.imread('C:\\\\GIT folder\\\\Brain_Tumor_Detection\\\\pred\\\\pred0.jpg') # from prediction copy path of 1st image\n",
    "\n",
    "#convert img to area for testing purpose\n",
    "img = Image.fromarray(image)\n",
    "img = img.resize((64,64))\n",
    "img = np.array(img)\n",
    "\n",
    "# print(img) # print image array (shows only numbers)\n",
    "\n",
    "\n",
    "input_img = np.expand_dims(img, axis=0) # to make it 4d\n",
    "result = model.predict(input_img)\n",
    "print(result)\n"
   ]
  },
  {
   "cell_type": "code",
   "execution_count": 6,
   "metadata": {},
   "outputs": [
    {
     "name": "stdout",
     "output_type": "stream",
     "text": [
      "\u001b[1m1/1\u001b[0m \u001b[32m━━━━━━━━━━━━━━━━━━━━\u001b[0m\u001b[37m\u001b[0m \u001b[1m0s\u001b[0m 61ms/step\n",
      "[[0. 1.]]\n"
     ]
    }
   ],
   "source": [
    "image=cv2.imread('C:\\\\GIT folder\\\\Brain_Tumor_Detection\\\\pred\\\\pred2.jpg') # from prediction copy path of 3rd image\n",
    "\n",
    "#convert img to area for testing purpose\n",
    "img = Image.fromarray(image)\n",
    "img = img.resize((64,64))\n",
    "img = np.array(img)\n",
    "\n",
    "# print(img) # print image array (shows only numbers)\n",
    "\n",
    "\n",
    "input_img = np.expand_dims(img, axis=0) # to make it 4d\n",
    "result = model.predict(input_img)\n",
    "print(result)\n"
   ]
  },
  {
   "cell_type": "code",
   "execution_count": null,
   "metadata": {},
   "outputs": [],
   "source": []
  }
 ],
 "metadata": {
  "kernelspec": {
   "display_name": "base",
   "language": "python",
   "name": "python3"
  },
  "language_info": {
   "codemirror_mode": {
    "name": "ipython",
    "version": 3
   },
   "file_extension": ".py",
   "mimetype": "text/x-python",
   "name": "python",
   "nbconvert_exporter": "python",
   "pygments_lexer": "ipython3",
   "version": "3.12.4"
  }
 },
 "nbformat": 4,
 "nbformat_minor": 2
}
